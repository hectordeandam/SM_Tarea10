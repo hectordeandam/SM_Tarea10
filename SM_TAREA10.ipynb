{
 "cells": [
  {
   "cell_type": "code",
   "execution_count": null,
   "metadata": {},
   "outputs": [],
   "source": [
    "# Hacer código acá\n",
    "import random\n",
    "import numpy as np\n",
    "import matplotlib.pyplot as plt \n",
    "from functools import reduce"
   ]
  },
  {
   "cell_type": "code",
   "execution_count": null,
   "metadata": {},
   "outputs": [],
   "source": [
    "# Caminata aleatorio método convencional\n",
    "def randon_walk(N):\n",
    "    x = 0\n",
    "    xx = [x]\n",
    "    add_el = xx.append\n",
    "    for i in range(N):\n",
    "        z = random.choice([-1,1])\n",
    "        x += z\n",
    "        add_el(x)\n",
    "    return xx,x"
   ]
  },
  {
   "cell_type": "code",
   "execution_count": null,
   "metadata": {},
   "outputs": [],
   "source": [
    "# Usando el método ineficiente\n",
    "\n",
    "N = 10000 # número de pasos\n",
    "n = 100    # cantidad de trayectorias\n",
    "final = []\n",
    "# %matplotlib inline\n",
    "for j in range(n):\n",
    "    xx,x = randon_walk(N)\n",
    "    final.append(x)\n",
    "    plt.plot(xx)    \n",
    "plt.show()\n",
    "print('En promedio el caminante esta en :',np.mean(final))"
   ]
  },
  {
   "cell_type": "code",
   "execution_count": null,
   "metadata": {},
   "outputs": [],
   "source": [
    "# Crear una función para que devuelva simplemente ganar(true) o perder(false)\n",
    "def tirar_dado():\n",
    "    dado = random.randint(1,100)\n",
    "    if dado>0 and dado<= 50 or dado == 100:\n",
    "        return False\n",
    "    else: \n",
    "        return True"
   ]
  },
  {
   "cell_type": "code",
   "execution_count": null,
   "metadata": {},
   "outputs": [],
   "source": [
    "# Probar la función creada para ver que funcione\n",
    "N = 100\n",
    "contador_ganar = 0\n",
    "contador_perder = 0\n",
    "for i in range(N):\n",
    "    if tirar_dado():\n",
    "        contador_ganar +=1\n",
    "#         print('FELICIDADES!!!!!')\n",
    "    else:\n",
    "        contador_perder+=1\n",
    "#         print('Sigue intentando')\n",
    "        \n",
    "        \n",
    "print(\"Ganamos\", contador_ganar, \" veces y perdimos\", contador_perder, \" veces.\")"
   ]
  },
  {
   "cell_type": "code",
   "execution_count": null,
   "metadata": {},
   "outputs": [],
   "source": [
    "# Crearemos un apostador simple. Las caracterísitcas son: se empieza con un capital inicial,\n",
    "# siempre se apuesta lo mismo, y se va a apostar un número determinado de veces.\n",
    "def apostador(cap_inicial, apuesta, n_apuestas):\n",
    "    capital = cap_inicial\n",
    "    ccapital = [capital]\n",
    "    for i in range(n_apuestas):\n",
    "        if tirar_dado():\n",
    "            capital += apuesta\n",
    "            ccapital.append(capital)\n",
    "        else:\n",
    "            capital -= apuesta\n",
    "            ccapital.append(capital)\n",
    "    return ccapital,capital"
   ]
  },
  {
   "cell_type": "code",
   "execution_count": null,
   "metadata": {},
   "outputs": [],
   "source": [
    "# Ver como evolucionan los fondos de nuestro apostador al jugar 100 veces\n",
    "# %matplotlib inline\n",
    "ccapital,capital = apostador(10000, 100, 1000)\n",
    "print('El capital luego del juego fue',capital)\n",
    "plt.plot(ccapital)\n",
    "plt.show()"
   ]
  },
  {
   "cell_type": "code",
   "execution_count": null,
   "metadata": {},
   "outputs": [],
   "source": [
    "# (Montecarlo) Simular varios (100) escenarios en que se apuestan \n",
    "# 50, 100, 1000 y 10000 veces. ¿Qué pasa?\n",
    "N = 100\n",
    "n = [50,100,1000,10000]\n",
    "final = []\n",
    "i=1\n",
    "capital = 10000\n",
    "for j in n:\n",
    "    ccapital,capital2 = apostador(capital, 100, j)\n",
    "    final.append(capital2)\n",
    "    plt.figure(i)\n",
    "    plt.plot(ccapital,label= 'se apuestan %i veces' %j)\n",
    "    plt.legend()\n",
    "    i += 1\n",
    "print('En promedio mi dinero fue:',np.mean(final))\n",
    "plt.show()"
   ]
  },
  {
   "cell_type": "code",
   "execution_count": null,
   "metadata": {},
   "outputs": [],
   "source": [
    "# Graficar historial para ver el comportamiento del de los fondos para 1000 juegos distintos\n",
    "plt.hist(final,10)\n",
    "plt.show()\n",
    "print(np.mean(final))"
   ]
  },
  {
   "cell_type": "code",
   "execution_count": null,
   "metadata": {},
   "outputs": [],
   "source": [
    "# (Montecarlo) Simular varios (100) escenarios en que se apuestan 50, 100, 1000 y 10000 veces. ¿Qué pasa?\n",
    "N = 100\n",
    "n = 10000\n",
    "for i in range(N):\n",
    "    ccapital,capital = apostador(10000, 100, n)\n",
    "    plt.plot(ccapital)\n",
    "    \n",
    "plt.show()"
   ]
  }
 ],
 "metadata": {
  "kernelspec": {
   "display_name": "Python 3",
   "language": "python",
   "name": "python3"
  },
  "language_info": {
   "codemirror_mode": {
    "name": "ipython",
    "version": 3
   },
   "file_extension": ".py",
   "mimetype": "text/x-python",
   "name": "python",
   "nbconvert_exporter": "python",
   "pygments_lexer": "ipython3",
   "version": "3.7.3"
  }
 },
 "nbformat": 4,
 "nbformat_minor": 2
}
